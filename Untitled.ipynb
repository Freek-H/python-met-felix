{
 "cells": [
  {
   "cell_type": "code",
   "execution_count": 1,
   "id": "de11268f",
   "metadata": {},
   "outputs": [
    {
     "data": {
      "text/plain": [
       "3"
      ]
     },
     "execution_count": 1,
     "metadata": {},
     "output_type": "execute_result"
    }
   ],
   "source": [
    "3"
   ]
  },
  {
   "cell_type": "code",
   "execution_count": 7,
   "id": "48d23b62",
   "metadata": {},
   "outputs": [
    {
     "data": {
      "text/plain": [
       "\"De omgeving is omgeving = 'test'. De waarde van a=3. Henk is henk_leeftijd=30 jaar oud.\""
      ]
     },
     "execution_count": 7,
     "metadata": {},
     "output_type": "execute_result"
    }
   ],
   "source": [
    "henk_leeftijd = 30\n",
    "a = 3\n",
    "omgeving = 'test'\n",
    "\n",
    "f'De omgeving is {omgeving = }. De waarde van {a=}. Henk is {henk_leeftijd=} jaar oud.'"
   ]
  },
  {
   "cell_type": "code",
   "execution_count": 8,
   "id": "63baf257",
   "metadata": {},
   "outputs": [],
   "source": [
    "from math import pi"
   ]
  },
  {
   "cell_type": "code",
   "execution_count": 11,
   "id": "2ecf5565",
   "metadata": {},
   "outputs": [
    {
     "data": {
      "text/plain": [
       "'3.14'"
      ]
     },
     "execution_count": 11,
     "metadata": {},
     "output_type": "execute_result"
    }
   ],
   "source": [
    "f'{pi:.2f}'"
   ]
  },
  {
   "cell_type": "code",
   "execution_count": 12,
   "id": "b09e6693",
   "metadata": {},
   "outputs": [],
   "source": [
    "from datetime import datetime"
   ]
  },
  {
   "cell_type": "code",
   "execution_count": 14,
   "id": "477f0ec7",
   "metadata": {},
   "outputs": [],
   "source": [
    "dt = datetime(2021, 11, 19, 16, 34)"
   ]
  },
  {
   "cell_type": "code",
   "execution_count": 16,
   "id": "6de4ff3a",
   "metadata": {},
   "outputs": [
    {
     "data": {
      "text/plain": [
       "'16:34'"
      ]
     },
     "execution_count": 16,
     "metadata": {},
     "output_type": "execute_result"
    }
   ],
   "source": [
    "f'{dt:%H:%M}'"
   ]
  },
  {
   "cell_type": "code",
   "execution_count": 18,
   "id": "d4072e25",
   "metadata": {},
   "outputs": [
    {
     "name": "stdout",
     "output_type": "stream",
     "text": [
      " 0\n",
      " 1\n",
      " 2\n",
      " 3\n",
      " 4\n",
      " 5\n",
      " 6\n",
      " 7\n",
      " 8\n",
      " 9\n",
      "10\n",
      "11\n",
      "12\n",
      "13\n",
      "14\n"
     ]
    }
   ],
   "source": [
    "for i in range(15):\n",
    "    print(f\"{i:>2}\")"
   ]
  },
  {
   "cell_type": "code",
   "execution_count": null,
   "id": "9fd72841",
   "metadata": {},
   "outputs": [],
   "source": []
  }
 ],
 "metadata": {
  "kernelspec": {
   "display_name": "Python 3 (ipykernel)",
   "language": "python",
   "name": "python3"
  },
  "language_info": {
   "codemirror_mode": {
    "name": "ipython",
    "version": 3
   },
   "file_extension": ".py",
   "mimetype": "text/x-python",
   "name": "python",
   "nbconvert_exporter": "python",
   "pygments_lexer": "ipython3",
   "version": "3.9.6"
  }
 },
 "nbformat": 4,
 "nbformat_minor": 5
}
