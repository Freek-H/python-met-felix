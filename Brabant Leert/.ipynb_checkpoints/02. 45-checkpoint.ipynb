{
 "cells": [
  {
   "cell_type": "markdown",
   "id": "991aca69",
   "metadata": {},
   "source": [
    "# Importeren"
   ]
  },
  {
   "cell_type": "code",
   "execution_count": 1,
   "id": "945f2ee0",
   "metadata": {},
   "outputs": [],
   "source": [
    "import pandas as pd\n",
    "import matplotlib.pyplot as plt\n",
    "import numpy as np\n",
    "from datetime import datetime\n",
    "from collections import Counter"
   ]
  },
  {
   "cell_type": "markdown",
   "id": "49bfe3eb",
   "metadata": {},
   "source": [
    "# Data inladen"
   ]
  },
  {
   "cell_type": "code",
   "execution_count": 2,
   "id": "74787179",
   "metadata": {},
   "outputs": [
    {
     "data": {
      "text/html": [
       "<div>\n",
       "<style scoped>\n",
       "    .dataframe tbody tr th:only-of-type {\n",
       "        vertical-align: middle;\n",
       "    }\n",
       "\n",
       "    .dataframe tbody tr th {\n",
       "        vertical-align: top;\n",
       "    }\n",
       "\n",
       "    .dataframe thead th {\n",
       "        text-align: right;\n",
       "    }\n",
       "</style>\n",
       "<table border=\"1\" class=\"dataframe\">\n",
       "  <thead>\n",
       "    <tr style=\"text-align: right;\">\n",
       "      <th></th>\n",
       "      <th>id</th>\n",
       "      <th>first_name</th>\n",
       "      <th>middle_name</th>\n",
       "      <th>last_name</th>\n",
       "      <th>birth_date</th>\n",
       "      <th>marital_status</th>\n",
       "      <th>sex</th>\n",
       "      <th>email</th>\n",
       "      <th>salary</th>\n",
       "      <th>total_children</th>\n",
       "      <th>number_children_at_home</th>\n",
       "      <th>education</th>\n",
       "      <th>occupation</th>\n",
       "      <th>house_owner_flag</th>\n",
       "      <th>number_of_cars_owned</th>\n",
       "      <th>address</th>\n",
       "      <th>phone</th>\n",
       "      <th>date_first_purchase</th>\n",
       "      <th>commute_distance</th>\n",
       "    </tr>\n",
       "  </thead>\n",
       "  <tbody>\n",
       "    <tr>\n",
       "      <th>0</th>\n",
       "      <td>11000</td>\n",
       "      <td>Jon</td>\n",
       "      <td>V</td>\n",
       "      <td>Yang</td>\n",
       "      <td>1979-05-14</td>\n",
       "      <td>M</td>\n",
       "      <td>M</td>\n",
       "      <td>jon24@adventure-works.com</td>\n",
       "      <td>90000</td>\n",
       "      <td>2</td>\n",
       "      <td>0</td>\n",
       "      <td>Bachelors</td>\n",
       "      <td>Professional</td>\n",
       "      <td>1</td>\n",
       "      <td>0</td>\n",
       "      <td>3761 N. 14th St</td>\n",
       "      <td>1 (11) 500 555-0162</td>\n",
       "      <td>2018-08-27</td>\n",
       "      <td>1-2 Miles</td>\n",
       "    </tr>\n",
       "    <tr>\n",
       "      <th>1</th>\n",
       "      <td>11001</td>\n",
       "      <td>Eugene</td>\n",
       "      <td>L</td>\n",
       "      <td>Huang</td>\n",
       "      <td>1983-12-17</td>\n",
       "      <td>S</td>\n",
       "      <td>M</td>\n",
       "      <td>eugene10@adventure-works.com</td>\n",
       "      <td>60000</td>\n",
       "      <td>3</td>\n",
       "      <td>3</td>\n",
       "      <td>Bachelors</td>\n",
       "      <td>Professional</td>\n",
       "      <td>0</td>\n",
       "      <td>1</td>\n",
       "      <td>2243 W St.</td>\n",
       "      <td>1 (11) 500 555-0110</td>\n",
       "      <td>2018-08-23</td>\n",
       "      <td>0-1 Miles</td>\n",
       "    </tr>\n",
       "    <tr>\n",
       "      <th>2</th>\n",
       "      <td>11002</td>\n",
       "      <td>Ruben</td>\n",
       "      <td>NaN</td>\n",
       "      <td>Torres</td>\n",
       "      <td>1978-09-17</td>\n",
       "      <td>M</td>\n",
       "      <td>M</td>\n",
       "      <td>ruben35@adventure-works.com</td>\n",
       "      <td>60000</td>\n",
       "      <td>3</td>\n",
       "      <td>3</td>\n",
       "      <td>Bachelors</td>\n",
       "      <td>Professional</td>\n",
       "      <td>1</td>\n",
       "      <td>1</td>\n",
       "      <td>5844 Linden Land</td>\n",
       "      <td>1 (11) 500 555-0184</td>\n",
       "      <td>2018-08-15</td>\n",
       "      <td>2-5 Miles</td>\n",
       "    </tr>\n",
       "    <tr>\n",
       "      <th>3</th>\n",
       "      <td>11003</td>\n",
       "      <td>Christy</td>\n",
       "      <td>NaN</td>\n",
       "      <td>Zhu</td>\n",
       "      <td>1981-03-22</td>\n",
       "      <td>S</td>\n",
       "      <td>F</td>\n",
       "      <td>christy12@adventure-works.com</td>\n",
       "      <td>70000</td>\n",
       "      <td>0</td>\n",
       "      <td>0</td>\n",
       "      <td>Bachelors</td>\n",
       "      <td>Professional</td>\n",
       "      <td>0</td>\n",
       "      <td>1</td>\n",
       "      <td>1825 Village Pl.</td>\n",
       "      <td>1 (11) 500 555-0162</td>\n",
       "      <td>2018-08-06</td>\n",
       "      <td>5-10 Miles</td>\n",
       "    </tr>\n",
       "    <tr>\n",
       "      <th>4</th>\n",
       "      <td>11004</td>\n",
       "      <td>Elizabeth</td>\n",
       "      <td>NaN</td>\n",
       "      <td>Johnson</td>\n",
       "      <td>1987-03-13</td>\n",
       "      <td>S</td>\n",
       "      <td>F</td>\n",
       "      <td>elizabeth5@adventure-works.com</td>\n",
       "      <td>80000</td>\n",
       "      <td>5</td>\n",
       "      <td>5</td>\n",
       "      <td>Bachelors</td>\n",
       "      <td>Professional</td>\n",
       "      <td>1</td>\n",
       "      <td>4</td>\n",
       "      <td>7553 Harness Circle</td>\n",
       "      <td>1 (11) 500 555-0131</td>\n",
       "      <td>2018-08-31</td>\n",
       "      <td>1-2 Miles</td>\n",
       "    </tr>\n",
       "    <tr>\n",
       "      <th>...</th>\n",
       "      <td>...</td>\n",
       "      <td>...</td>\n",
       "      <td>...</td>\n",
       "      <td>...</td>\n",
       "      <td>...</td>\n",
       "      <td>...</td>\n",
       "      <td>...</td>\n",
       "      <td>...</td>\n",
       "      <td>...</td>\n",
       "      <td>...</td>\n",
       "      <td>...</td>\n",
       "      <td>...</td>\n",
       "      <td>...</td>\n",
       "      <td>...</td>\n",
       "      <td>...</td>\n",
       "      <td>...</td>\n",
       "      <td>...</td>\n",
       "      <td>...</td>\n",
       "      <td>...</td>\n",
       "    </tr>\n",
       "    <tr>\n",
       "      <th>97</th>\n",
       "      <td>11097</td>\n",
       "      <td>Edwin</td>\n",
       "      <td>R</td>\n",
       "      <td>Nara</td>\n",
       "      <td>1980-05-31</td>\n",
       "      <td>M</td>\n",
       "      <td>M</td>\n",
       "      <td>edwin39@adventure-works.com</td>\n",
       "      <td>60000</td>\n",
       "      <td>1</td>\n",
       "      <td>0</td>\n",
       "      <td>Partial College</td>\n",
       "      <td>Skilled Manual</td>\n",
       "      <td>1</td>\n",
       "      <td>1</td>\n",
       "      <td>719 William Way</td>\n",
       "      <td>1 (11) 500 555-0112</td>\n",
       "      <td>2018-11-10</td>\n",
       "      <td>5-10 Miles</td>\n",
       "    </tr>\n",
       "    <tr>\n",
       "      <th>98</th>\n",
       "      <td>11098</td>\n",
       "      <td>Mallory</td>\n",
       "      <td>S</td>\n",
       "      <td>Rubio</td>\n",
       "      <td>1974-06-06</td>\n",
       "      <td>S</td>\n",
       "      <td>F</td>\n",
       "      <td>mallory7@adventure-works.com</td>\n",
       "      <td>60000</td>\n",
       "      <td>1</td>\n",
       "      <td>0</td>\n",
       "      <td>Partial College</td>\n",
       "      <td>Skilled Manual</td>\n",
       "      <td>0</td>\n",
       "      <td>1</td>\n",
       "      <td>6452 Harris Circle</td>\n",
       "      <td>1 (11) 500 555-0157</td>\n",
       "      <td>2020-09-19</td>\n",
       "      <td>0-1 Miles</td>\n",
       "    </tr>\n",
       "    <tr>\n",
       "      <th>99</th>\n",
       "      <td>11099</td>\n",
       "      <td>Adam</td>\n",
       "      <td>NaN</td>\n",
       "      <td>Ross</td>\n",
       "      <td>1974-04-13</td>\n",
       "      <td>M</td>\n",
       "      <td>M</td>\n",
       "      <td>adam2@adventure-works.com</td>\n",
       "      <td>60000</td>\n",
       "      <td>1</td>\n",
       "      <td>0</td>\n",
       "      <td>Bachelors</td>\n",
       "      <td>Professional</td>\n",
       "      <td>1</td>\n",
       "      <td>1</td>\n",
       "      <td>4378 Westminster Place</td>\n",
       "      <td>1 (11) 500 555-0186</td>\n",
       "      <td>2018-11-13</td>\n",
       "      <td>0-1 Miles</td>\n",
       "    </tr>\n",
       "    <tr>\n",
       "      <th>100</th>\n",
       "      <td>11100</td>\n",
       "      <td>Latasha</td>\n",
       "      <td>L</td>\n",
       "      <td>Navarro</td>\n",
       "      <td>1973-10-21</td>\n",
       "      <td>S</td>\n",
       "      <td>F</td>\n",
       "      <td>latasha10@adventure-works.com</td>\n",
       "      <td>60000</td>\n",
       "      <td>1</td>\n",
       "      <td>0</td>\n",
       "      <td>Partial College</td>\n",
       "      <td>Skilled Manual</td>\n",
       "      <td>1</td>\n",
       "      <td>1</td>\n",
       "      <td>6954 Ranch Road</td>\n",
       "      <td>1 (11) 500 555-0123</td>\n",
       "      <td>2018-11-22</td>\n",
       "      <td>5-10 Miles</td>\n",
       "    </tr>\n",
       "    <tr>\n",
       "      <th>101</th>\n",
       "      <td>11101</td>\n",
       "      <td>Abby</td>\n",
       "      <td>L</td>\n",
       "      <td>Sai</td>\n",
       "      <td>1978-06-13</td>\n",
       "      <td>S</td>\n",
       "      <td>F</td>\n",
       "      <td>abby4@adventure-works.com</td>\n",
       "      <td>70000</td>\n",
       "      <td>0</td>\n",
       "      <td>0</td>\n",
       "      <td>Bachelors</td>\n",
       "      <td>Professional</td>\n",
       "      <td>0</td>\n",
       "      <td>1</td>\n",
       "      <td>7074 N. Spoonwood Court</td>\n",
       "      <td>1 (11) 500 555-0174</td>\n",
       "      <td>2018-12-05</td>\n",
       "      <td>0-1 Miles</td>\n",
       "    </tr>\n",
       "  </tbody>\n",
       "</table>\n",
       "<p>102 rows × 19 columns</p>\n",
       "</div>"
      ],
      "text/plain": [
       "        id first_name middle_name last_name  birth_date marital_status sex  \\\n",
       "0    11000        Jon           V      Yang  1979-05-14              M   M   \n",
       "1    11001     Eugene           L     Huang  1983-12-17              S   M   \n",
       "2    11002      Ruben         NaN    Torres  1978-09-17              M   M   \n",
       "3    11003    Christy         NaN       Zhu  1981-03-22              S   F   \n",
       "4    11004  Elizabeth         NaN   Johnson  1987-03-13              S   F   \n",
       "..     ...        ...         ...       ...         ...            ...  ..   \n",
       "97   11097      Edwin           R      Nara  1980-05-31              M   M   \n",
       "98   11098    Mallory           S     Rubio  1974-06-06              S   F   \n",
       "99   11099       Adam         NaN      Ross  1974-04-13              M   M   \n",
       "100  11100    Latasha           L   Navarro  1973-10-21              S   F   \n",
       "101  11101       Abby           L       Sai  1978-06-13              S   F   \n",
       "\n",
       "                              email  salary  total_children  \\\n",
       "0         jon24@adventure-works.com   90000               2   \n",
       "1      eugene10@adventure-works.com   60000               3   \n",
       "2       ruben35@adventure-works.com   60000               3   \n",
       "3     christy12@adventure-works.com   70000               0   \n",
       "4    elizabeth5@adventure-works.com   80000               5   \n",
       "..                              ...     ...             ...   \n",
       "97      edwin39@adventure-works.com   60000               1   \n",
       "98     mallory7@adventure-works.com   60000               1   \n",
       "99        adam2@adventure-works.com   60000               1   \n",
       "100   latasha10@adventure-works.com   60000               1   \n",
       "101       abby4@adventure-works.com   70000               0   \n",
       "\n",
       "     number_children_at_home        education      occupation  \\\n",
       "0                          0        Bachelors    Professional   \n",
       "1                          3        Bachelors    Professional   \n",
       "2                          3        Bachelors    Professional   \n",
       "3                          0        Bachelors    Professional   \n",
       "4                          5        Bachelors    Professional   \n",
       "..                       ...              ...             ...   \n",
       "97                         0  Partial College  Skilled Manual   \n",
       "98                         0  Partial College  Skilled Manual   \n",
       "99                         0        Bachelors    Professional   \n",
       "100                        0  Partial College  Skilled Manual   \n",
       "101                        0        Bachelors    Professional   \n",
       "\n",
       "     house_owner_flag  number_of_cars_owned                  address  \\\n",
       "0                   1                     0          3761 N. 14th St   \n",
       "1                   0                     1               2243 W St.   \n",
       "2                   1                     1         5844 Linden Land   \n",
       "3                   0                     1         1825 Village Pl.   \n",
       "4                   1                     4      7553 Harness Circle   \n",
       "..                ...                   ...                      ...   \n",
       "97                  1                     1          719 William Way   \n",
       "98                  0                     1       6452 Harris Circle   \n",
       "99                  1                     1   4378 Westminster Place   \n",
       "100                 1                     1          6954 Ranch Road   \n",
       "101                 0                     1  7074 N. Spoonwood Court   \n",
       "\n",
       "                   phone date_first_purchase commute_distance  \n",
       "0    1 (11) 500 555-0162          2018-08-27        1-2 Miles  \n",
       "1    1 (11) 500 555-0110          2018-08-23        0-1 Miles  \n",
       "2    1 (11) 500 555-0184          2018-08-15        2-5 Miles  \n",
       "3    1 (11) 500 555-0162          2018-08-06       5-10 Miles  \n",
       "4    1 (11) 500 555-0131          2018-08-31        1-2 Miles  \n",
       "..                   ...                 ...              ...  \n",
       "97   1 (11) 500 555-0112          2018-11-10       5-10 Miles  \n",
       "98   1 (11) 500 555-0157          2020-09-19        0-1 Miles  \n",
       "99   1 (11) 500 555-0186          2018-11-13        0-1 Miles  \n",
       "100  1 (11) 500 555-0123          2018-11-22       5-10 Miles  \n",
       "101  1 (11) 500 555-0174          2018-12-05        0-1 Miles  \n",
       "\n",
       "[102 rows x 19 columns]"
      ]
     },
     "execution_count": 2,
     "metadata": {},
     "output_type": "execute_result"
    }
   ],
   "source": [
    "df = pd.read_csv('les_data.csv')\n",
    "df"
   ]
  },
  {
   "cell_type": "code",
   "execution_count": 3,
   "id": "7e17085b",
   "metadata": {},
   "outputs": [
    {
     "data": {
      "text/plain": [
       "id                          int64\n",
       "first_name                 object\n",
       "middle_name                object\n",
       "last_name                  object\n",
       "birth_date                 object\n",
       "marital_status             object\n",
       "sex                        object\n",
       "email                      object\n",
       "salary                      int64\n",
       "total_children              int64\n",
       "number_children_at_home     int64\n",
       "education                  object\n",
       "occupation                 object\n",
       "house_owner_flag            int64\n",
       "number_of_cars_owned        int64\n",
       "address                    object\n",
       "phone                      object\n",
       "date_first_purchase        object\n",
       "commute_distance           object\n",
       "dtype: object"
      ]
     },
     "execution_count": 3,
     "metadata": {},
     "output_type": "execute_result"
    }
   ],
   "source": [
    "df.dtypes"
   ]
  },
  {
   "cell_type": "code",
   "execution_count": 4,
   "id": "7fb1918b",
   "metadata": {},
   "outputs": [
    {
     "data": {
      "text/plain": [
       "birth_date             object\n",
       "date_first_purchase    object\n",
       "dtype: object"
      ]
     },
     "execution_count": 4,
     "metadata": {},
     "output_type": "execute_result"
    }
   ],
   "source": [
    "df[['birth_date', 'date_first_purchase']].dtypes"
   ]
  },
  {
   "cell_type": "code",
   "execution_count": 5,
   "id": "5f85b4be",
   "metadata": {},
   "outputs": [],
   "source": [
    "df['birth_date'] = pd.to_datetime(df['birth_date'])\n",
    "df['date_first_purchase'] = pd.to_datetime(df['date_first_purchase'])"
   ]
  },
  {
   "cell_type": "code",
   "execution_count": 6,
   "id": "2b8dfbde",
   "metadata": {},
   "outputs": [
    {
     "data": {
      "text/plain": [
       "birth_date             datetime64[ns]\n",
       "date_first_purchase    datetime64[ns]\n",
       "dtype: object"
      ]
     },
     "execution_count": 6,
     "metadata": {},
     "output_type": "execute_result"
    }
   ],
   "source": [
    "df[['birth_date', 'date_first_purchase']].dtypes"
   ]
  },
  {
   "cell_type": "code",
   "execution_count": 7,
   "id": "226d7bb7",
   "metadata": {},
   "outputs": [
    {
     "data": {
      "text/plain": [
       "Counter({'M': 57, 'S': 45})"
      ]
     },
     "execution_count": 7,
     "metadata": {},
     "output_type": "execute_result"
    }
   ],
   "source": [
    "Counter(df['marital_status'])"
   ]
  },
  {
   "cell_type": "code",
   "execution_count": 8,
   "id": "d37f51ec",
   "metadata": {},
   "outputs": [
    {
     "data": {
      "image/png": "[encoded data removed]",
      "text/plain": [
       "<Figure size 432x288 with 1 Axes>"
      ]
     },
     "metadata": {
      "needs_background": "light"
     },
     "output_type": "display_data"
    }
   ],
   "source": [
    "plt.scatter(df['birth_date'], df['salary'])\n",
    "plt.title('Salaris tegen geboortedatum')\n",
    "plt.xlabel('Geboortedatum')\n",
    "plt.ylabel('Jaarsalaris $')\n",
    "plt.show()"
   ]
  },
  {
   "cell_type": "code",
   "execution_count": 9,
   "id": "cfb88a04",
   "metadata": {},
   "outputs": [],
   "source": [
    "def calculate_age(birth_date):\n",
    "    current_date = datetime.now()\n",
    "    if current_date.month > birth_date.month:\n",
    "        return current_date.year - birth_date.year\n",
    "    elif current_date.month == birth_date.month and current_date.day >= birth_date.day:\n",
    "        return current_date.year - birth_date.year\n",
    "    else:\n",
    "        return current_date.year - birth_date.year - 1"
   ]
  },
  {
   "cell_type": "code",
   "execution_count": 10,
   "id": "651142ea",
   "metadata": {},
   "outputs": [
    {
     "data": {
      "text/plain": [
       "30"
      ]
     },
     "execution_count": 10,
     "metadata": {},
     "output_type": "execute_result"
    }
   ],
   "source": [
    "calculate_age(datetime(1991, 1, 1))"
   ]
  },
  {
   "cell_type": "code",
   "execution_count": 11,
   "id": "b5521180",
   "metadata": {},
   "outputs": [
    {
     "data": {
      "text/plain": [
       "55826"
      ]
     },
     "execution_count": 11,
     "metadata": {},
     "output_type": "execute_result"
    }
   ],
   "source": [
    "datetime.now().microsecond"
   ]
  },
  {
   "cell_type": "code",
   "execution_count": 12,
   "id": "9dd93488",
   "metadata": {},
   "outputs": [],
   "source": [
    "df['age'] = [calculate_age(birth_date)\n",
    "             for birth_date in df['birth_date']]"
   ]
  },
  {
   "cell_type": "code",
   "execution_count": 13,
   "id": "4d048951",
   "metadata": {},
   "outputs": [
    {
     "data": {
      "text/html": [
       "<div>\n",
       "<style scoped>\n",
       "    .dataframe tbody tr th:only-of-type {\n",
       "        vertical-align: middle;\n",
       "    }\n",
       "\n",
       "    .dataframe tbody tr th {\n",
       "        vertical-align: top;\n",
       "    }\n",
       "\n",
       "    .dataframe thead th {\n",
       "        text-align: right;\n",
       "    }\n",
       "</style>\n",
       "<table border=\"1\" class=\"dataframe\">\n",
       "  <thead>\n",
       "    <tr style=\"text-align: right;\">\n",
       "      <th></th>\n",
       "      <th>id</th>\n",
       "      <th>salary</th>\n",
       "      <th>total_children</th>\n",
       "      <th>number_children_at_home</th>\n",
       "      <th>house_owner_flag</th>\n",
       "      <th>number_of_cars_owned</th>\n",
       "      <th>age</th>\n",
       "    </tr>\n",
       "  </thead>\n",
       "  <tbody>\n",
       "    <tr>\n",
       "      <th>id</th>\n",
       "      <td>1.000000</td>\n",
       "      <td>0.381543</td>\n",
       "      <td>-0.154234</td>\n",
       "      <td>-0.236158</td>\n",
       "      <td>-0.000746</td>\n",
       "      <td>-0.227669</td>\n",
       "      <td>0.116602</td>\n",
       "    </tr>\n",
       "    <tr>\n",
       "      <th>salary</th>\n",
       "      <td>0.381543</td>\n",
       "      <td>1.000000</td>\n",
       "      <td>-0.218209</td>\n",
       "      <td>0.089611</td>\n",
       "      <td>0.008583</td>\n",
       "      <td>-0.003264</td>\n",
       "      <td>-0.272791</td>\n",
       "    </tr>\n",
       "    <tr>\n",
       "      <th>total_children</th>\n",
       "      <td>-0.154234</td>\n",
       "      <td>-0.218209</td>\n",
       "      <td>1.000000</td>\n",
       "      <td>0.434280</td>\n",
       "      <td>0.162664</td>\n",
       "      <td>0.276698</td>\n",
       "      <td>0.670433</td>\n",
       "    </tr>\n",
       "    <tr>\n",
       "      <th>number_children_at_home</th>\n",
       "      <td>-0.236158</td>\n",
       "      <td>0.089611</td>\n",
       "      <td>0.434280</td>\n",
       "      <td>1.000000</td>\n",
       "      <td>0.102594</td>\n",
       "      <td>0.229801</td>\n",
       "      <td>-0.055288</td>\n",
       "    </tr>\n",
       "    <tr>\n",
       "      <th>house_owner_flag</th>\n",
       "      <td>-0.000746</td>\n",
       "      <td>0.008583</td>\n",
       "      <td>0.162664</td>\n",
       "      <td>0.102594</td>\n",
       "      <td>1.000000</td>\n",
       "      <td>0.064015</td>\n",
       "      <td>0.106251</td>\n",
       "    </tr>\n",
       "    <tr>\n",
       "      <th>number_of_cars_owned</th>\n",
       "      <td>-0.227669</td>\n",
       "      <td>-0.003264</td>\n",
       "      <td>0.276698</td>\n",
       "      <td>0.229801</td>\n",
       "      <td>0.064015</td>\n",
       "      <td>1.000000</td>\n",
       "      <td>0.056259</td>\n",
       "    </tr>\n",
       "    <tr>\n",
       "      <th>age</th>\n",
       "      <td>0.116602</td>\n",
       "      <td>-0.272791</td>\n",
       "      <td>0.670433</td>\n",
       "      <td>-0.055288</td>\n",
       "      <td>0.106251</td>\n",
       "      <td>0.056259</td>\n",
       "      <td>1.000000</td>\n",
       "    </tr>\n",
       "  </tbody>\n",
       "</table>\n",
       "</div>"
      ],
      "text/plain": [
       "                               id    salary  total_children  \\\n",
       "id                       1.000000  0.381543       -0.154234   \n",
       "salary                   0.381543  1.000000       -0.218209   \n",
       "total_children          -0.154234 -0.218209        1.000000   \n",
       "number_children_at_home -0.236158  0.089611        0.434280   \n",
       "house_owner_flag        -0.000746  0.008583        0.162664   \n",
       "number_of_cars_owned    -0.227669 -0.003264        0.276698   \n",
       "age                      0.116602 -0.272791        0.670433   \n",
       "\n",
       "                         number_children_at_home  house_owner_flag  \\\n",
       "id                                     -0.236158         -0.000746   \n",
       "salary                                  0.089611          0.008583   \n",
       "total_children                          0.434280          0.162664   \n",
       "number_children_at_home                 1.000000          0.102594   \n",
       "house_owner_flag                        0.102594          1.000000   \n",
       "number_of_cars_owned                    0.229801          0.064015   \n",
       "age                                    -0.055288          0.106251   \n",
       "\n",
       "                         number_of_cars_owned       age  \n",
       "id                                  -0.227669  0.116602  \n",
       "salary                              -0.003264 -0.272791  \n",
       "total_children                       0.276698  0.670433  \n",
       "number_children_at_home              0.229801 -0.055288  \n",
       "house_owner_flag                     0.064015  0.106251  \n",
       "number_of_cars_owned                 1.000000  0.056259  \n",
       "age                                  0.056259  1.000000  "
      ]
     },
     "execution_count": 13,
     "metadata": {},
     "output_type": "execute_result"
    }
   ],
   "source": [
    "df.corr()"
   ]
  },
  {
   "cell_type": "code",
   "execution_count": 14,
   "id": "d158ea1d",
   "metadata": {},
   "outputs": [
    {
     "data": {
      "text/plain": [
       "<matplotlib.collections.PathCollection at 0x25350ffdb20>"
      ]
     },
     "execution_count": 14,
     "metadata": {},
     "output_type": "execute_result"
    },
    {
     "data": {
      "image/png": "[encoded data removed]",
      "text/plain": [
       "<Figure size 432x288 with 1 Axes>"
      ]
     },
     "metadata": {
      "needs_background": "light"
     },
     "output_type": "display_data"
    }
   ],
   "source": [
    "plt.scatter(df['id'], df['salary'])"
   ]
  },
  {
   "cell_type": "code",
   "execution_count": 15,
   "id": "d657332a",
   "metadata": {},
   "outputs": [
    {
     "data": {
      "text/plain": [
       "<matplotlib.collections.PathCollection at 0x25351068f70>"
      ]
     },
     "execution_count": 15,
     "metadata": {},
     "output_type": "execute_result"
    },
    {
     "data": {
      "image/png": "[encoded data removed]",
      "text/plain": [
       "<Figure size 432x288 with 1 Axes>"
      ]
     },
     "metadata": {
      "needs_background": "light"
     },
     "output_type": "display_data"
    }
   ],
   "source": [
    "plt.scatter(df['age'], df['total_children'])"
   ]
  },
  {
   "cell_type": "code",
   "execution_count": 16,
   "id": "27eba7ac",
   "metadata": {},
   "outputs": [
    {
     "data": {
      "image/png": "[encoded data removed]",
      "text/plain": [
       "<Figure size 432x288 with 1 Axes>"
      ]
     },
     "metadata": {
      "needs_background": "light"
     },
     "output_type": "display_data"
    }
   ],
   "source": [
    "plt.bar(df.groupby('age').mean()['total_children'].index, df.groupby('age').mean()['total_children'])\n",
    "plt.title('Leeftijd tegen aantal kinderen')\n",
    "plt.xlabel('Aantal kinderen (gemiddeld)')\n",
    "plt.ylabel('Leeftijd')\n",
    "plt.show()"
   ]
  },
  {
   "cell_type": "code",
   "execution_count": null,
   "id": "af3e488e",
   "metadata": {},
   "outputs": [],
   "source": []
  },
  {
   "cell_type": "code",
   "execution_count": 17,
   "id": "d6400087",
   "metadata": {},
   "outputs": [
    {
     "data": {
      "image/png": "[encoded data removed]",
      "text/plain": [
       "<Figure size 432x288 with 1 Axes>"
      ]
     },
     "metadata": {
      "needs_background": "light"
     },
     "output_type": "display_data"
    }
   ],
   "source": [
    "plt.scatter(df['age'], df['salary'], alpha=.3)\n",
    "plt.title('Salaris tegen leeftijd')\n",
    "plt.xlabel('Leeftijd')\n",
    "plt.ylabel('Jaarsalaris $')\n",
    "plt.show()"
   ]
  },
  {
   "cell_type": "code",
   "execution_count": 18,
   "id": "4ebd4747",
   "metadata": {},
   "outputs": [
    {
     "data": {
      "text/plain": [
       "[<matplotlib.lines.Line2D at 0x253521e24f0>]"
      ]
     },
     "execution_count": 18,
     "metadata": {},
     "output_type": "execute_result"
    },
    {
     "data": {
      "image/png": "[encoded data removed]",
      "text/plain": [
       "<Figure size 432x288 with 1 Axes>"
      ]
     },
     "metadata": {
      "needs_background": "light"
     },
     "output_type": "display_data"
    }
   ],
   "source": [
    "plt.plot(df.groupby('age').mean()['salary'])"
   ]
  },
  {
   "cell_type": "code",
   "execution_count": 19,
   "id": "93768a3d",
   "metadata": {},
   "outputs": [
    {
     "data": {
      "text/plain": [
       "<BarContainer object of 35 artists>"
      ]
     },
     "execution_count": 19,
     "metadata": {},
     "output_type": "execute_result"
    },
    {
     "data": {
      "image/png": "[encoded data removed]",
      "text/plain": [
       "<Figure size 432x288 with 1 Axes>"
      ]
     },
     "metadata": {
      "needs_background": "light"
     },
     "output_type": "display_data"
    }
   ],
   "source": [
    "plt.bar(sorted(df['age'].unique()), df.groupby('age').mean()['salary'])"
   ]
  },
  {
   "cell_type": "code",
   "execution_count": 20,
   "id": "9622e35d",
   "metadata": {},
   "outputs": [
    {
     "data": {
      "text/plain": [
       "<BarContainer object of 35 artists>"
      ]
     },
     "execution_count": 20,
     "metadata": {},
     "output_type": "execute_result"
    },
    {
     "data": {
      "image/png": "[encoded data removed]",
      "text/plain": [
       "<Figure size 432x288 with 1 Axes>"
      ]
     },
     "metadata": {
      "needs_background": "light"
     },
     "output_type": "display_data"
    }
   ],
   "source": [
    "plt.bar(df.groupby('age').mean()['salary'].index, df.groupby('age').mean()['salary'])"
   ]
  },
  {
   "cell_type": "code",
   "execution_count": 21,
   "id": "a92c16e5",
   "metadata": {},
   "outputs": [
    {
     "ename": "TypeError",
     "evalue": "bar() missing 1 required positional argument: 'height'",
     "output_type": "error",
     "traceback": [
      "\u001b[1;31m---------------------------------------------------------------------------\u001b[0m",
      "\u001b[1;31mTypeError\u001b[0m                                 Traceback (most recent call last)",
      "\u001b[1;32m~\\AppData\\Local\\Temp/ipykernel_24088/1992165251.py\u001b[0m in \u001b[0;36m<module>\u001b[1;34m\u001b[0m\n\u001b[1;32m----> 1\u001b[1;33m \u001b[0mplt\u001b[0m\u001b[1;33m.\u001b[0m\u001b[0mbar\u001b[0m\u001b[1;33m(\u001b[0m\u001b[0mdf\u001b[0m\u001b[1;33m.\u001b[0m\u001b[0mgroupby\u001b[0m\u001b[1;33m(\u001b[0m\u001b[1;34m'age'\u001b[0m\u001b[1;33m)\u001b[0m\u001b[1;33m.\u001b[0m\u001b[0mmean\u001b[0m\u001b[1;33m(\u001b[0m\u001b[1;33m)\u001b[0m\u001b[1;33m[\u001b[0m\u001b[1;34m'salary'\u001b[0m\u001b[1;33m]\u001b[0m\u001b[1;33m)\u001b[0m\u001b[1;33m\u001b[0m\u001b[1;33m\u001b[0m\u001b[0m\n\u001b[0m",
      "\u001b[1;31mTypeError\u001b[0m: bar() missing 1 required positional argument: 'height'"
     ]
    }
   ],
   "source": [
    "plt.bar(df.groupby('age').mean()['salary'])"
   ]
  },
  {
   "cell_type": "markdown",
   "id": "0db28923",
   "metadata": {},
   "source": [
    "# Dummies"
   ]
  },
  {
   "cell_type": "code",
   "execution_count": 22,
   "id": "8a3add9d",
   "metadata": {},
   "outputs": [
    {
     "data": {
      "text/html": [
       "<div>\n",
       "<style scoped>\n",
       "    .dataframe tbody tr th:only-of-type {\n",
       "        vertical-align: middle;\n",
       "    }\n",
       "\n",
       "    .dataframe tbody tr th {\n",
       "        vertical-align: top;\n",
       "    }\n",
       "\n",
       "    .dataframe thead th {\n",
       "        text-align: right;\n",
       "    }\n",
       "</style>\n",
       "<table border=\"1\" class=\"dataframe\">\n",
       "  <thead>\n",
       "    <tr style=\"text-align: right;\">\n",
       "      <th></th>\n",
       "      <th>id</th>\n",
       "      <th>first_name</th>\n",
       "      <th>middle_name</th>\n",
       "      <th>last_name</th>\n",
       "      <th>birth_date</th>\n",
       "      <th>marital_status</th>\n",
       "      <th>sex</th>\n",
       "      <th>email</th>\n",
       "      <th>salary</th>\n",
       "      <th>total_children</th>\n",
       "      <th>number_children_at_home</th>\n",
       "      <th>education</th>\n",
       "      <th>occupation</th>\n",
       "      <th>house_owner_flag</th>\n",
       "      <th>number_of_cars_owned</th>\n",
       "      <th>address</th>\n",
       "      <th>phone</th>\n",
       "      <th>date_first_purchase</th>\n",
       "      <th>commute_distance</th>\n",
       "      <th>age</th>\n",
       "    </tr>\n",
       "  </thead>\n",
       "  <tbody>\n",
       "    <tr>\n",
       "      <th>0</th>\n",
       "      <td>11000</td>\n",
       "      <td>Jon</td>\n",
       "      <td>V</td>\n",
       "      <td>Yang</td>\n",
       "      <td>1979-05-14</td>\n",
       "      <td>M</td>\n",
       "      <td>M</td>\n",
       "      <td>jon24@adventure-works.com</td>\n",
       "      <td>90000</td>\n",
       "      <td>2</td>\n",
       "      <td>0</td>\n",
       "      <td>Bachelors</td>\n",
       "      <td>Professional</td>\n",
       "      <td>1</td>\n",
       "      <td>0</td>\n",
       "      <td>3761 N. 14th St</td>\n",
       "      <td>1 (11) 500 555-0162</td>\n",
       "      <td>2018-08-27</td>\n",
       "      <td>1-2 Miles</td>\n",
       "      <td>42</td>\n",
       "    </tr>\n",
       "    <tr>\n",
       "      <th>1</th>\n",
       "      <td>11001</td>\n",
       "      <td>Eugene</td>\n",
       "      <td>L</td>\n",
       "      <td>Huang</td>\n",
       "      <td>1983-12-17</td>\n",
       "      <td>S</td>\n",
       "      <td>M</td>\n",
       "      <td>eugene10@adventure-works.com</td>\n",
       "      <td>60000</td>\n",
       "      <td>3</td>\n",
       "      <td>3</td>\n",
       "      <td>Bachelors</td>\n",
       "      <td>Professional</td>\n",
       "      <td>0</td>\n",
       "      <td>1</td>\n",
       "      <td>2243 W St.</td>\n",
       "      <td>1 (11) 500 555-0110</td>\n",
       "      <td>2018-08-23</td>\n",
       "      <td>0-1 Miles</td>\n",
       "      <td>37</td>\n",
       "    </tr>\n",
       "    <tr>\n",
       "      <th>2</th>\n",
       "      <td>11002</td>\n",
       "      <td>Ruben</td>\n",
       "      <td>NaN</td>\n",
       "      <td>Torres</td>\n",
       "      <td>1978-09-17</td>\n",
       "      <td>M</td>\n",
       "      <td>M</td>\n",
       "      <td>ruben35@adventure-works.com</td>\n",
       "      <td>60000</td>\n",
       "      <td>3</td>\n",
       "      <td>3</td>\n",
       "      <td>Bachelors</td>\n",
       "      <td>Professional</td>\n",
       "      <td>1</td>\n",
       "      <td>1</td>\n",
       "      <td>5844 Linden Land</td>\n",
       "      <td>1 (11) 500 555-0184</td>\n",
       "      <td>2018-08-15</td>\n",
       "      <td>2-5 Miles</td>\n",
       "      <td>43</td>\n",
       "    </tr>\n",
       "    <tr>\n",
       "      <th>3</th>\n",
       "      <td>11003</td>\n",
       "      <td>Christy</td>\n",
       "      <td>NaN</td>\n",
       "      <td>Zhu</td>\n",
       "      <td>1981-03-22</td>\n",
       "      <td>S</td>\n",
       "      <td>F</td>\n",
       "      <td>christy12@adventure-works.com</td>\n",
       "      <td>70000</td>\n",
       "      <td>0</td>\n",
       "      <td>0</td>\n",
       "      <td>Bachelors</td>\n",
       "      <td>Professional</td>\n",
       "      <td>0</td>\n",
       "      <td>1</td>\n",
       "      <td>1825 Village Pl.</td>\n",
       "      <td>1 (11) 500 555-0162</td>\n",
       "      <td>2018-08-06</td>\n",
       "      <td>5-10 Miles</td>\n",
       "      <td>40</td>\n",
       "    </tr>\n",
       "    <tr>\n",
       "      <th>4</th>\n",
       "      <td>11004</td>\n",
       "      <td>Elizabeth</td>\n",
       "      <td>NaN</td>\n",
       "      <td>Johnson</td>\n",
       "      <td>1987-03-13</td>\n",
       "      <td>S</td>\n",
       "      <td>F</td>\n",
       "      <td>elizabeth5@adventure-works.com</td>\n",
       "      <td>80000</td>\n",
       "      <td>5</td>\n",
       "      <td>5</td>\n",
       "      <td>Bachelors</td>\n",
       "      <td>Professional</td>\n",
       "      <td>1</td>\n",
       "      <td>4</td>\n",
       "      <td>7553 Harness Circle</td>\n",
       "      <td>1 (11) 500 555-0131</td>\n",
       "      <td>2018-08-31</td>\n",
       "      <td>1-2 Miles</td>\n",
       "      <td>34</td>\n",
       "    </tr>\n",
       "  </tbody>\n",
       "</table>\n",
       "</div>"
      ],
      "text/plain": [
       "      id first_name middle_name last_name birth_date marital_status sex  \\\n",
       "0  11000        Jon           V      Yang 1979-05-14              M   M   \n",
       "1  11001     Eugene           L     Huang 1983-12-17              S   M   \n",
       "2  11002      Ruben         NaN    Torres 1978-09-17              M   M   \n",
       "3  11003    Christy         NaN       Zhu 1981-03-22              S   F   \n",
       "4  11004  Elizabeth         NaN   Johnson 1987-03-13              S   F   \n",
       "\n",
       "                            email  salary  total_children  \\\n",
       "0       jon24@adventure-works.com   90000               2   \n",
       "1    eugene10@adventure-works.com   60000               3   \n",
       "2     ruben35@adventure-works.com   60000               3   \n",
       "3   christy12@adventure-works.com   70000               0   \n",
       "4  elizabeth5@adventure-works.com   80000               5   \n",
       "\n",
       "   number_children_at_home  education    occupation  house_owner_flag  \\\n",
       "0                        0  Bachelors  Professional                 1   \n",
       "1                        3  Bachelors  Professional                 0   \n",
       "2                        3  Bachelors  Professional                 1   \n",
       "3                        0  Bachelors  Professional                 0   \n",
       "4                        5  Bachelors  Professional                 1   \n",
       "\n",
       "   number_of_cars_owned              address                phone  \\\n",
       "0                     0      3761 N. 14th St  1 (11) 500 555-0162   \n",
       "1                     1           2243 W St.  1 (11) 500 555-0110   \n",
       "2                     1     5844 Linden Land  1 (11) 500 555-0184   \n",
       "3                     1     1825 Village Pl.  1 (11) 500 555-0162   \n",
       "4                     4  7553 Harness Circle  1 (11) 500 555-0131   \n",
       "\n",
       "  date_first_purchase commute_distance  age  \n",
       "0          2018-08-27        1-2 Miles   42  \n",
       "1          2018-08-23        0-1 Miles   37  \n",
       "2          2018-08-15        2-5 Miles   43  \n",
       "3          2018-08-06       5-10 Miles   40  \n",
       "4          2018-08-31        1-2 Miles   34  "
      ]
     },
     "execution_count": 22,
     "metadata": {},
     "output_type": "execute_result"
    }
   ],
   "source": [
    "df.head()"
   ]
  },
  {
   "cell_type": "markdown",
   "id": "fbe80373",
   "metadata": {},
   "source": [
    "# Drop vanwege Multicolinearity https://datascience.stackexchange.com/questions/24452/in-supervised-learning-why-is-it-bad-to-have-correlated-features"
   ]
  },
  {
   "cell_type": "code",
   "execution_count": 23,
   "id": "445c5d5c",
   "metadata": {},
   "outputs": [
    {
     "data": {
      "text/html": [
       "<div>\n",
       "<style scoped>\n",
       "    .dataframe tbody tr th:only-of-type {\n",
       "        vertical-align: middle;\n",
       "    }\n",
       "\n",
       "    .dataframe tbody tr th {\n",
       "        vertical-align: top;\n",
       "    }\n",
       "\n",
       "    .dataframe thead th {\n",
       "        text-align: right;\n",
       "    }\n",
       "</style>\n",
       "<table border=\"1\" class=\"dataframe\">\n",
       "  <thead>\n",
       "    <tr style=\"text-align: right;\">\n",
       "      <th></th>\n",
       "      <th>marital_status_S</th>\n",
       "      <th>sex_M</th>\n",
       "    </tr>\n",
       "  </thead>\n",
       "  <tbody>\n",
       "    <tr>\n",
       "      <th>0</th>\n",
       "      <td>0</td>\n",
       "      <td>1</td>\n",
       "    </tr>\n",
       "    <tr>\n",
       "      <th>1</th>\n",
       "      <td>1</td>\n",
       "      <td>1</td>\n",
       "    </tr>\n",
       "    <tr>\n",
       "      <th>2</th>\n",
       "      <td>0</td>\n",
       "      <td>1</td>\n",
       "    </tr>\n",
       "    <tr>\n",
       "      <th>3</th>\n",
       "      <td>1</td>\n",
       "      <td>0</td>\n",
       "    </tr>\n",
       "    <tr>\n",
       "      <th>4</th>\n",
       "      <td>1</td>\n",
       "      <td>0</td>\n",
       "    </tr>\n",
       "    <tr>\n",
       "      <th>...</th>\n",
       "      <td>...</td>\n",
       "      <td>...</td>\n",
       "    </tr>\n",
       "    <tr>\n",
       "      <th>97</th>\n",
       "      <td>0</td>\n",
       "      <td>1</td>\n",
       "    </tr>\n",
       "    <tr>\n",
       "      <th>98</th>\n",
       "      <td>1</td>\n",
       "      <td>0</td>\n",
       "    </tr>\n",
       "    <tr>\n",
       "      <th>99</th>\n",
       "      <td>0</td>\n",
       "      <td>1</td>\n",
       "    </tr>\n",
       "    <tr>\n",
       "      <th>100</th>\n",
       "      <td>1</td>\n",
       "      <td>0</td>\n",
       "    </tr>\n",
       "    <tr>\n",
       "      <th>101</th>\n",
       "      <td>1</td>\n",
       "      <td>0</td>\n",
       "    </tr>\n",
       "  </tbody>\n",
       "</table>\n",
       "<p>102 rows × 2 columns</p>\n",
       "</div>"
      ],
      "text/plain": [
       "     marital_status_S  sex_M\n",
       "0                   0      1\n",
       "1                   1      1\n",
       "2                   0      1\n",
       "3                   1      0\n",
       "4                   1      0\n",
       "..                ...    ...\n",
       "97                  0      1\n",
       "98                  1      0\n",
       "99                  0      1\n",
       "100                 1      0\n",
       "101                 1      0\n",
       "\n",
       "[102 rows x 2 columns]"
      ]
     },
     "execution_count": 23,
     "metadata": {},
     "output_type": "execute_result"
    }
   ],
   "source": [
    "pd.get_dummies(df[['marital_status', 'sex']], drop_first=True)"
   ]
  },
  {
   "cell_type": "code",
   "execution_count": 24,
   "id": "e78a4610",
   "metadata": {},
   "outputs": [
    {
     "data": {
      "text/html": [
       "<div>\n",
       "<style scoped>\n",
       "    .dataframe tbody tr th:only-of-type {\n",
       "        vertical-align: middle;\n",
       "    }\n",
       "\n",
       "    .dataframe tbody tr th {\n",
       "        vertical-align: top;\n",
       "    }\n",
       "\n",
       "    .dataframe thead th {\n",
       "        text-align: right;\n",
       "    }\n",
       "</style>\n",
       "<table border=\"1\" class=\"dataframe\">\n",
       "  <thead>\n",
       "    <tr style=\"text-align: right;\">\n",
       "      <th></th>\n",
       "      <th>Graduate Degree</th>\n",
       "      <th>High School</th>\n",
       "      <th>Partial College</th>\n",
       "      <th>Partial High School</th>\n",
       "    </tr>\n",
       "  </thead>\n",
       "  <tbody>\n",
       "    <tr>\n",
       "      <th>0</th>\n",
       "      <td>0</td>\n",
       "      <td>0</td>\n",
       "      <td>0</td>\n",
       "      <td>0</td>\n",
       "    </tr>\n",
       "    <tr>\n",
       "      <th>1</th>\n",
       "      <td>0</td>\n",
       "      <td>0</td>\n",
       "      <td>0</td>\n",
       "      <td>0</td>\n",
       "    </tr>\n",
       "    <tr>\n",
       "      <th>2</th>\n",
       "      <td>0</td>\n",
       "      <td>0</td>\n",
       "      <td>0</td>\n",
       "      <td>0</td>\n",
       "    </tr>\n",
       "    <tr>\n",
       "      <th>3</th>\n",
       "      <td>0</td>\n",
       "      <td>0</td>\n",
       "      <td>0</td>\n",
       "      <td>0</td>\n",
       "    </tr>\n",
       "    <tr>\n",
       "      <th>4</th>\n",
       "      <td>0</td>\n",
       "      <td>0</td>\n",
       "      <td>0</td>\n",
       "      <td>0</td>\n",
       "    </tr>\n",
       "    <tr>\n",
       "      <th>...</th>\n",
       "      <td>...</td>\n",
       "      <td>...</td>\n",
       "      <td>...</td>\n",
       "      <td>...</td>\n",
       "    </tr>\n",
       "    <tr>\n",
       "      <th>97</th>\n",
       "      <td>0</td>\n",
       "      <td>0</td>\n",
       "      <td>1</td>\n",
       "      <td>0</td>\n",
       "    </tr>\n",
       "    <tr>\n",
       "      <th>98</th>\n",
       "      <td>0</td>\n",
       "      <td>0</td>\n",
       "      <td>1</td>\n",
       "      <td>0</td>\n",
       "    </tr>\n",
       "    <tr>\n",
       "      <th>99</th>\n",
       "      <td>0</td>\n",
       "      <td>0</td>\n",
       "      <td>0</td>\n",
       "      <td>0</td>\n",
       "    </tr>\n",
       "    <tr>\n",
       "      <th>100</th>\n",
       "      <td>0</td>\n",
       "      <td>0</td>\n",
       "      <td>1</td>\n",
       "      <td>0</td>\n",
       "    </tr>\n",
       "    <tr>\n",
       "      <th>101</th>\n",
       "      <td>0</td>\n",
       "      <td>0</td>\n",
       "      <td>0</td>\n",
       "      <td>0</td>\n",
       "    </tr>\n",
       "  </tbody>\n",
       "</table>\n",
       "<p>102 rows × 4 columns</p>\n",
       "</div>"
      ],
      "text/plain": [
       "     Graduate Degree  High School  Partial College  Partial High School\n",
       "0                  0            0                0                    0\n",
       "1                  0            0                0                    0\n",
       "2                  0            0                0                    0\n",
       "3                  0            0                0                    0\n",
       "4                  0            0                0                    0\n",
       "..               ...          ...              ...                  ...\n",
       "97                 0            0                1                    0\n",
       "98                 0            0                1                    0\n",
       "99                 0            0                0                    0\n",
       "100                0            0                1                    0\n",
       "101                0            0                0                    0\n",
       "\n",
       "[102 rows x 4 columns]"
      ]
     },
     "execution_count": 24,
     "metadata": {},
     "output_type": "execute_result"
    }
   ],
   "source": [
    "pd.get_dummies(df['education'], drop_first=True)"
   ]
  },
  {
   "cell_type": "code",
   "execution_count": 25,
   "id": "02501f6b",
   "metadata": {},
   "outputs": [
    {
     "data": {
      "text/html": [
       "<div>\n",
       "<style scoped>\n",
       "    .dataframe tbody tr th:only-of-type {\n",
       "        vertical-align: middle;\n",
       "    }\n",
       "\n",
       "    .dataframe tbody tr th {\n",
       "        vertical-align: top;\n",
       "    }\n",
       "\n",
       "    .dataframe thead th {\n",
       "        text-align: right;\n",
       "    }\n",
       "</style>\n",
       "<table border=\"1\" class=\"dataframe\">\n",
       "  <thead>\n",
       "    <tr style=\"text-align: right;\">\n",
       "      <th></th>\n",
       "      <th>Bachelors</th>\n",
       "      <th>Graduate Degree</th>\n",
       "      <th>Partial College</th>\n",
       "      <th>Partial High School</th>\n",
       "    </tr>\n",
       "  </thead>\n",
       "  <tbody>\n",
       "    <tr>\n",
       "      <th>0</th>\n",
       "      <td>1</td>\n",
       "      <td>0</td>\n",
       "      <td>0</td>\n",
       "      <td>0</td>\n",
       "    </tr>\n",
       "    <tr>\n",
       "      <th>1</th>\n",
       "      <td>1</td>\n",
       "      <td>0</td>\n",
       "      <td>0</td>\n",
       "      <td>0</td>\n",
       "    </tr>\n",
       "    <tr>\n",
       "      <th>2</th>\n",
       "      <td>1</td>\n",
       "      <td>0</td>\n",
       "      <td>0</td>\n",
       "      <td>0</td>\n",
       "    </tr>\n",
       "    <tr>\n",
       "      <th>3</th>\n",
       "      <td>1</td>\n",
       "      <td>0</td>\n",
       "      <td>0</td>\n",
       "      <td>0</td>\n",
       "    </tr>\n",
       "    <tr>\n",
       "      <th>4</th>\n",
       "      <td>1</td>\n",
       "      <td>0</td>\n",
       "      <td>0</td>\n",
       "      <td>0</td>\n",
       "    </tr>\n",
       "    <tr>\n",
       "      <th>...</th>\n",
       "      <td>...</td>\n",
       "      <td>...</td>\n",
       "      <td>...</td>\n",
       "      <td>...</td>\n",
       "    </tr>\n",
       "    <tr>\n",
       "      <th>97</th>\n",
       "      <td>0</td>\n",
       "      <td>0</td>\n",
       "      <td>1</td>\n",
       "      <td>0</td>\n",
       "    </tr>\n",
       "    <tr>\n",
       "      <th>98</th>\n",
       "      <td>0</td>\n",
       "      <td>0</td>\n",
       "      <td>1</td>\n",
       "      <td>0</td>\n",
       "    </tr>\n",
       "    <tr>\n",
       "      <th>99</th>\n",
       "      <td>1</td>\n",
       "      <td>0</td>\n",
       "      <td>0</td>\n",
       "      <td>0</td>\n",
       "    </tr>\n",
       "    <tr>\n",
       "      <th>100</th>\n",
       "      <td>0</td>\n",
       "      <td>0</td>\n",
       "      <td>1</td>\n",
       "      <td>0</td>\n",
       "    </tr>\n",
       "    <tr>\n",
       "      <th>101</th>\n",
       "      <td>1</td>\n",
       "      <td>0</td>\n",
       "      <td>0</td>\n",
       "      <td>0</td>\n",
       "    </tr>\n",
       "  </tbody>\n",
       "</table>\n",
       "<p>102 rows × 4 columns</p>\n",
       "</div>"
      ],
      "text/plain": [
       "     Bachelors  Graduate Degree  Partial College  Partial High School\n",
       "0            1                0                0                    0\n",
       "1            1                0                0                    0\n",
       "2            1                0                0                    0\n",
       "3            1                0                0                    0\n",
       "4            1                0                0                    0\n",
       "..         ...              ...              ...                  ...\n",
       "97           0                0                1                    0\n",
       "98           0                0                1                    0\n",
       "99           1                0                0                    0\n",
       "100          0                0                1                    0\n",
       "101          1                0                0                    0\n",
       "\n",
       "[102 rows x 4 columns]"
      ]
     },
     "execution_count": 25,
     "metadata": {},
     "output_type": "execute_result"
    }
   ],
   "source": [
    "pd.get_dummies(df['education']).drop(columns=['High School'])"
   ]
  },
  {
   "cell_type": "code",
   "execution_count": 26,
   "id": "a7463469",
   "metadata": {},
   "outputs": [
    {
     "data": {
      "text/html": [
       "<div>\n",
       "<style scoped>\n",
       "    .dataframe tbody tr th:only-of-type {\n",
       "        vertical-align: middle;\n",
       "    }\n",
       "\n",
       "    .dataframe tbody tr th {\n",
       "        vertical-align: top;\n",
       "    }\n",
       "\n",
       "    .dataframe thead th {\n",
       "        text-align: right;\n",
       "    }\n",
       "</style>\n",
       "<table border=\"1\" class=\"dataframe\">\n",
       "  <thead>\n",
       "    <tr style=\"text-align: right;\">\n",
       "      <th></th>\n",
       "      <th>id</th>\n",
       "      <th>salary</th>\n",
       "      <th>total_children</th>\n",
       "      <th>number_children_at_home</th>\n",
       "      <th>house_owner_flag</th>\n",
       "      <th>number_of_cars_owned</th>\n",
       "      <th>age</th>\n",
       "      <th>sex_M</th>\n",
       "    </tr>\n",
       "  </thead>\n",
       "  <tbody>\n",
       "    <tr>\n",
       "      <th>id</th>\n",
       "      <td>1.000000</td>\n",
       "      <td>0.381543</td>\n",
       "      <td>-0.154234</td>\n",
       "      <td>-0.236158</td>\n",
       "      <td>-0.000746</td>\n",
       "      <td>-0.227669</td>\n",
       "      <td>0.116602</td>\n",
       "      <td>-0.068260</td>\n",
       "    </tr>\n",
       "    <tr>\n",
       "      <th>salary</th>\n",
       "      <td>0.381543</td>\n",
       "      <td>1.000000</td>\n",
       "      <td>-0.218209</td>\n",
       "      <td>0.089611</td>\n",
       "      <td>0.008583</td>\n",
       "      <td>-0.003264</td>\n",
       "      <td>-0.272791</td>\n",
       "      <td>-0.022790</td>\n",
       "    </tr>\n",
       "    <tr>\n",
       "      <th>total_children</th>\n",
       "      <td>-0.154234</td>\n",
       "      <td>-0.218209</td>\n",
       "      <td>1.000000</td>\n",
       "      <td>0.434280</td>\n",
       "      <td>0.162664</td>\n",
       "      <td>0.276698</td>\n",
       "      <td>0.670433</td>\n",
       "      <td>-0.007525</td>\n",
       "    </tr>\n",
       "    <tr>\n",
       "      <th>number_children_at_home</th>\n",
       "      <td>-0.236158</td>\n",
       "      <td>0.089611</td>\n",
       "      <td>0.434280</td>\n",
       "      <td>1.000000</td>\n",
       "      <td>0.102594</td>\n",
       "      <td>0.229801</td>\n",
       "      <td>-0.055288</td>\n",
       "      <td>-0.041327</td>\n",
       "    </tr>\n",
       "    <tr>\n",
       "      <th>house_owner_flag</th>\n",
       "      <td>-0.000746</td>\n",
       "      <td>0.008583</td>\n",
       "      <td>0.162664</td>\n",
       "      <td>0.102594</td>\n",
       "      <td>1.000000</td>\n",
       "      <td>0.064015</td>\n",
       "      <td>0.106251</td>\n",
       "      <td>0.219687</td>\n",
       "    </tr>\n",
       "    <tr>\n",
       "      <th>number_of_cars_owned</th>\n",
       "      <td>-0.227669</td>\n",
       "      <td>-0.003264</td>\n",
       "      <td>0.276698</td>\n",
       "      <td>0.229801</td>\n",
       "      <td>0.064015</td>\n",
       "      <td>1.000000</td>\n",
       "      <td>0.056259</td>\n",
       "      <td>-0.120300</td>\n",
       "    </tr>\n",
       "    <tr>\n",
       "      <th>age</th>\n",
       "      <td>0.116602</td>\n",
       "      <td>-0.272791</td>\n",
       "      <td>0.670433</td>\n",
       "      <td>-0.055288</td>\n",
       "      <td>0.106251</td>\n",
       "      <td>0.056259</td>\n",
       "      <td>1.000000</td>\n",
       "      <td>0.027284</td>\n",
       "    </tr>\n",
       "    <tr>\n",
       "      <th>sex_M</th>\n",
       "      <td>-0.068260</td>\n",
       "      <td>-0.022790</td>\n",
       "      <td>-0.007525</td>\n",
       "      <td>-0.041327</td>\n",
       "      <td>0.219687</td>\n",
       "      <td>-0.120300</td>\n",
       "      <td>0.027284</td>\n",
       "      <td>1.000000</td>\n",
       "    </tr>\n",
       "  </tbody>\n",
       "</table>\n",
       "</div>"
      ],
      "text/plain": [
       "                               id    salary  total_children  \\\n",
       "id                       1.000000  0.381543       -0.154234   \n",
       "salary                   0.381543  1.000000       -0.218209   \n",
       "total_children          -0.154234 -0.218209        1.000000   \n",
       "number_children_at_home -0.236158  0.089611        0.434280   \n",
       "house_owner_flag        -0.000746  0.008583        0.162664   \n",
       "number_of_cars_owned    -0.227669 -0.003264        0.276698   \n",
       "age                      0.116602 -0.272791        0.670433   \n",
       "sex_M                   -0.068260 -0.022790       -0.007525   \n",
       "\n",
       "                         number_children_at_home  house_owner_flag  \\\n",
       "id                                     -0.236158         -0.000746   \n",
       "salary                                  0.089611          0.008583   \n",
       "total_children                          0.434280          0.162664   \n",
       "number_children_at_home                 1.000000          0.102594   \n",
       "house_owner_flag                        0.102594          1.000000   \n",
       "number_of_cars_owned                    0.229801          0.064015   \n",
       "age                                    -0.055288          0.106251   \n",
       "sex_M                                  -0.041327          0.219687   \n",
       "\n",
       "                         number_of_cars_owned       age     sex_M  \n",
       "id                                  -0.227669  0.116602 -0.068260  \n",
       "salary                              -0.003264 -0.272791 -0.022790  \n",
       "total_children                       0.276698  0.670433 -0.007525  \n",
       "number_children_at_home              0.229801 -0.055288 -0.041327  \n",
       "house_owner_flag                     0.064015  0.106251  0.219687  \n",
       "number_of_cars_owned                 1.000000  0.056259 -0.120300  \n",
       "age                                  0.056259  1.000000  0.027284  \n",
       "sex_M                               -0.120300  0.027284  1.000000  "
      ]
     },
     "execution_count": 26,
     "metadata": {},
     "output_type": "execute_result"
    }
   ],
   "source": [
    "df2 = df.copy()\n",
    "df2['sex_M'] = pd.get_dummies(df['sex'], drop_first=True)\n",
    "df2.corr()"
   ]
  },
  {
   "cell_type": "code",
   "execution_count": 27,
   "id": "949dffd6",
   "metadata": {},
   "outputs": [
    {
     "data": {
      "image/png": "[encoded data removed]",
      "text/plain": [
       "<Figure size 432x288 with 1 Axes>"
      ]
     },
     "metadata": {
      "needs_background": "light"
     },
     "output_type": "display_data"
    }
   ],
   "source": [
    "plt.bar(df.groupby('age').mean()['total_children'].index, df.groupby('age').mean()['total_children'])\n",
    "plt.title('Leeftijd tegen aantal kinderen')\n",
    "plt.xlabel('Aantal kinderen (gemiddeld)')\n",
    "plt.ylabel('Leeftijd')\n",
    "plt.show()"
   ]
  },
  {
   "cell_type": "code",
   "execution_count": 28,
   "id": "2005a0e6",
   "metadata": {},
   "outputs": [
    {
     "ename": "AttributeError",
     "evalue": "'BarContainer' object has no attribute 'savefig'",
     "output_type": "error",
     "traceback": [
      "\u001b[1;31m---------------------------------------------------------------------------\u001b[0m",
      "\u001b[1;31mAttributeError\u001b[0m                            Traceback (most recent call last)",
      "\u001b[1;32m~\\AppData\\Local\\Temp/ipykernel_24088/4190783950.py\u001b[0m in \u001b[0;36m<module>\u001b[1;34m\u001b[0m\n\u001b[0;32m      3\u001b[0m \u001b[0mplt\u001b[0m\u001b[1;33m.\u001b[0m\u001b[0mxlabel\u001b[0m\u001b[1;33m(\u001b[0m\u001b[1;34m'Aantal kinderen thuiswonend (gemiddeld)'\u001b[0m\u001b[1;33m)\u001b[0m\u001b[1;33m\u001b[0m\u001b[1;33m\u001b[0m\u001b[0m\n\u001b[0;32m      4\u001b[0m \u001b[0mplt\u001b[0m\u001b[1;33m.\u001b[0m\u001b[0mylabel\u001b[0m\u001b[1;33m(\u001b[0m\u001b[1;34m'Leeftijd'\u001b[0m\u001b[1;33m)\u001b[0m\u001b[1;33m\u001b[0m\u001b[1;33m\u001b[0m\u001b[0m\n\u001b[1;32m----> 5\u001b[1;33m \u001b[0mfig\u001b[0m\u001b[1;33m.\u001b[0m\u001b[0msavefig\u001b[0m\u001b[1;33m(\u001b[0m\u001b[1;34m'test.png'\u001b[0m\u001b[1;33m)\u001b[0m\u001b[1;33m\u001b[0m\u001b[1;33m\u001b[0m\u001b[0m\n\u001b[0m\u001b[0;32m      6\u001b[0m \u001b[0mplt\u001b[0m\u001b[1;33m.\u001b[0m\u001b[0mshow\u001b[0m\u001b[1;33m(\u001b[0m\u001b[1;33m)\u001b[0m\u001b[1;33m\u001b[0m\u001b[1;33m\u001b[0m\u001b[0m\n",
      "\u001b[1;31mAttributeError\u001b[0m: 'BarContainer' object has no attribute 'savefig'"
     ]
    },
    {
     "data": {
      "image/png": "[encoded data removed]",
      "text/plain": [
       "<Figure size 432x288 with 1 Axes>"
      ]
     },
     "metadata": {
      "needs_background": "light"
     },
     "output_type": "display_data"
    }
   ],
   "source": [
    "fig = plt.bar(df.groupby('age').mean()['number_children_at_home'].index, df.groupby('age').mean()['number_children_at_home'])\n",
    "plt.title('Leeftijd tegen aantal kinderen thuiswonend')\n",
    "plt.xlabel('Aantal kinderen thuiswonend (gemiddeld)')\n",
    "plt.ylabel('Leeftijd')\n",
    "fig.savefig('test.png')\n",
    "plt.show()"
   ]
  },
  {
   "cell_type": "code",
   "execution_count": null,
   "id": "ead4af9c",
   "metadata": {},
   "outputs": [],
   "source": []
  },
  {
   "cell_type": "code",
   "execution_count": null,
   "id": "20e84152",
   "metadata": {},
   "outputs": [],
   "source": []
  }
 ],
 "metadata": {
  "kernelspec": {
   "display_name": "Python 3 (ipykernel)",
   "language": "python",
   "name": "python3"
  },
  "language_info": {
   "codemirror_mode": {
    "name": "ipython",
    "version": 3
   },
   "file_extension": ".py",
   "mimetype": "text/x-python",
   "name": "python",
   "nbconvert_exporter": "python",
   "pygments_lexer": "ipython3",
   "version": "3.9.6"
  }
 },
 "nbformat": 4,
 "nbformat_minor": 5
}
